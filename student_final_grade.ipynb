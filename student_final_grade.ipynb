{
  "nbformat": 4,
  "nbformat_minor": 0,
  "metadata": {
    "colab": {
      "name": "student-final-grade.ipynb",
      "provenance": [],
      "private_outputs": true,
      "collapsed_sections": [],
      "authorship_tag": "ABX9TyOKsPJo/68FkbuEGSbwTyur",
      "include_colab_link": true
    },
    "kernelspec": {
      "name": "python3",
      "display_name": "Python 3"
    }
  },
  "cells": [
    {
      "cell_type": "markdown",
      "metadata": {
        "id": "view-in-github",
        "colab_type": "text"
      },
      "source": [
        "<a href=\"https://colab.research.google.com/github/optimalMachine/student-final-grade/blob/master/student_final_grade.ipynb\" target=\"_parent\"><img src=\"https://colab.research.google.com/assets/colab-badge.svg\" alt=\"Open In Colab\"/></a>"
      ]
    },
    {
      "cell_type": "markdown",
      "metadata": {
        "id": "olpPeY_1XWRl",
        "colab_type": "text"
      },
      "source": [
        "#**Predicting Student Final Grade.**\n",
        "\n",
        "![](https://drive.google.com/uc?id=19jmRvmUkTtGqpXl81EARg4Dr5GiDs_kr)\n",
        "\n",
        "Written by Jiuk Choi\n",
        "\n",
        "A Python machine learning project which predicts students' final grades based on given dataset."
      ]
    },
    {
      "cell_type": "code",
      "metadata": {
        "id": "dN9q1MlFWvnY",
        "colab_type": "code",
        "colab": {}
      },
      "source": [
        "#First import necessary libraries.\n",
        "\n",
        "import numpy as np\n",
        "import pandas as pd\n",
        "import sklearn\n",
        "from sklearn import linear_model\n",
        "from sklearn.utils import shuffle"
      ],
      "execution_count": 0,
      "outputs": []
    },
    {
      "cell_type": "code",
      "metadata": {
        "id": "q_wSLnnwTPrk",
        "colab_type": "code",
        "colab": {}
      },
      "source": [
        "#import raw data file.\n",
        "data = pd.read_csv('https://drive.google.com/uc?id=1-l7jxDFP393GEOB1UYuEVKZ0IW5b4KeT', sep=';')\n",
        "data.head()"
      ],
      "execution_count": 0,
      "outputs": []
    },
    {
      "cell_type": "code",
      "metadata": {
        "id": "EXBXQk0O4FXf",
        "colab_type": "code",
        "colab": {}
      },
      "source": [
        "#Filter out unnecessary variables. There are too many variables now. Plus, g3 is the final score which is the label.\n",
        "data = data[['G1','G2','G3','studytime','failures','absences']]\n",
        "predict = 'G3'\n"
      ],
      "execution_count": 0,
      "outputs": []
    },
    {
      "cell_type": "code",
      "metadata": {
        "id": "hg9NDPj_d52E",
        "colab_type": "code",
        "colab": {}
      },
      "source": [
        "X= np.array(data.drop([predict],1))\n",
        "y= np.array(data[predict])"
      ],
      "execution_count": 0,
      "outputs": []
    },
    {
      "cell_type": "code",
      "metadata": {
        "id": "u2pqt1WD5bha",
        "colab_type": "code",
        "colab": {}
      },
      "source": [
        "#Set up both train set and test set data.\n",
        "x_train, x_test, y_train, y_test = sklearn.model_selection.train_test_split(X,y,test_size=0.1)"
      ],
      "execution_count": 0,
      "outputs": []
    },
    {
      "cell_type": "code",
      "metadata": {
        "id": "3MySEwDMnuuk",
        "colab_type": "code",
        "colab": {}
      },
      "source": [
        "#Creates Linear regression model.\n",
        "linear = linear_model.LinearRegression()\n",
        "\n"
      ],
      "execution_count": 0,
      "outputs": []
    },
    {
      "cell_type": "code",
      "metadata": {
        "id": "eXqnqi-8cJEX",
        "colab_type": "code",
        "colab": {}
      },
      "source": [
        "#Creates the line of fit.\n",
        "linear.fit(x_train,y_train)\n"
      ],
      "execution_count": 0,
      "outputs": []
    },
    {
      "cell_type": "code",
      "metadata": {
        "id": "M2li07wRfcDe",
        "colab_type": "code",
        "colab": {}
      },
      "source": [
        "#After creating the model, it needs to be validated how accurate the prediction is.\n",
        "accuracy_rate = linear.score(x_test,y_test)\n",
        "accuracy_rate"
      ],
      "execution_count": 0,
      "outputs": []
    },
    {
      "cell_type": "code",
      "metadata": {
        "id": "WDWgPHD66i3a",
        "colab_type": "code",
        "colab": {}
      },
      "source": [
        "accuracy_rate"
      ],
      "execution_count": 0,
      "outputs": []
    },
    {
      "cell_type": "markdown",
      "metadata": {
        "id": "GMO9L2Jv7xy4",
        "colab_type": "text"
      },
      "source": [
        "After a several accuracy results, the accuracy rate was between from at least 80 to over 90. The result shows very high accuracy rate, and it seems like this model is very successful.\n"
      ]
    },
    {
      "cell_type": "code",
      "metadata": {
        "id": "zx6Kv8E38NGw",
        "colab_type": "code",
        "colab": {}
      },
      "source": [
        ""
      ],
      "execution_count": 0,
      "outputs": []
    }
  ]
}