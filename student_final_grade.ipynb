{
  "nbformat": 4,
  "nbformat_minor": 0,
  "metadata": {
    "colab": {
      "name": "student-final-grade.ipynb",
      "provenance": [],
      "private_outputs": true,
      "collapsed_sections": [],
      "authorship_tag": "ABX9TyOpFP4fUqkOpm8m/P1vYhqq",
      "include_colab_link": true
    },
    "kernelspec": {
      "name": "python3",
      "display_name": "Python 3"
    }
  },
  "cells": [
    {
      "cell_type": "markdown",
      "metadata": {
        "id": "view-in-github",
        "colab_type": "text"
      },
      "source": [
        "<a href=\"https://colab.research.google.com/github/optimalMachine/student-final-grade/blob/master/student_final_grade.ipynb\" target=\"_parent\"><img src=\"https://colab.research.google.com/assets/colab-badge.svg\" alt=\"Open In Colab\"/></a>"
      ]
    },
    {
      "cell_type": "markdown",
      "metadata": {
        "id": "olpPeY_1XWRl",
        "colab_type": "text"
      },
      "source": [
        "#**Predicting Student Final Grade.**\n",
        "\n",
        "![](https://drive.google.com/uc?id=19jmRvmUkTtGqpXl81EARg4Dr5GiDs_kr)\n",
        "\n",
        "written by Jiuk Choi\n",
        "\n",
        "In this project, I am going to predict each student's final grade using regression."
      ]
    },
    {
      "cell_type": "code",
      "metadata": {
        "id": "dN9q1MlFWvnY",
        "colab_type": "code",
        "colab": {}
      },
      "source": [
        "#First import necessary libraries.\n",
        "\n",
        "import numpy as np\n",
        "import pandas as pd\n",
        "import sklearn\n",
        "from sklearn import linear_model"
      ],
      "execution_count": 0,
      "outputs": []
    },
    {
      "cell_type": "code",
      "metadata": {
        "id": "q_wSLnnwTPrk",
        "colab_type": "code",
        "colab": {}
      },
      "source": [
        ""
      ],
      "execution_count": 0,
      "outputs": []
    }
  ]
}